{
 "cells": [
  {
   "cell_type": "code",
   "execution_count": 57,
   "metadata": {},
   "outputs": [],
   "source": [
    "import cv2\n",
    "import numpy as np\n",
    "import math\n",
    "import statistics"
   ]
  },
  {
   "cell_type": "code",
   "execution_count": 58,
   "metadata": {},
   "outputs": [],
   "source": [
    "def read_fingerprints(filename):\n",
    "    '''\n",
    "        Taken directly from author: Ahron Wayne.\n",
    "        Reads a space-separated file containing x, y, z coordinates\n",
    "        directly into an np array of the same shape.\n",
    "        The z-coordinate represents depth.\n",
    "    '''\n",
    "    with open(filename) as f:\n",
    "        fingerprints = f.readlines()\n",
    "    fingerprints = [x.strip() for x in fingerprints]\n",
    "    fingerprints = [x.split() for x in fingerprints]\n",
    "    fingerprints = np.array(fingerprints, dtype=float)\n",
    "    return fingerprints"
   ]
  },
  {
   "cell_type": "code",
   "execution_count": 59,
   "metadata": {},
   "outputs": [
    {
     "data": {
      "text/plain": [
       "(134894, 3)"
      ]
     },
     "execution_count": 59,
     "metadata": {},
     "output_type": "execute_result"
    }
   ],
   "source": [
    "fingerprints_np = read_fingerprints('fingerprintsdata3.txt')\n",
    "fingerprints_np.shape"
   ]
  },
  {
   "cell_type": "code",
   "execution_count": 60,
   "metadata": {},
   "outputs": [],
   "source": [
    "from alibi_detect.od import Mahalanobis\n",
    "\n",
    "from alibi_detect.base import BaseDetector"
   ]
  },
  {
   "cell_type": "code",
   "execution_count": 61,
   "metadata": {},
   "outputs": [],
   "source": [
    "def detect_outlier_mask(arr: np.array, outlier_model: BaseDetector) -> np.array:\n",
    "    '''\n",
    "        Takes (-1,3) dimension array and an outlier detector model\n",
    "        which returns an np array of dimension (-1,), a mapping\n",
    "        of 0, 1 values corresponding to no outlier, outlier.\n",
    "    '''\n",
    "    assert len(arr.shape) == 2 and arr.shape[1] == 3\n",
    "    z_only_arr = np.expand_dims(arr[:,2], axis=1)\n",
    "    return outlier_model.predict(z_only_arr)['data']['is_outlier']"
   ]
  },
  {
   "cell_type": "code",
   "execution_count": 65,
   "metadata": {},
   "outputs": [
    {
     "name": "stdout",
     "output_type": "stream",
     "text": [
      "Percent of outliers is 0.661178406749003\n"
     ]
    }
   ],
   "source": [
    "outlier_mask_np = detect_outlier_mask(fingerprints_np, Mahalanobis(threshold=1))\n",
    "print(f\"Percent of outliers is { np.mean(outlier_mask_np) }\")"
   ]
  },
  {
   "cell_type": "code",
   "execution_count": 63,
   "metadata": {},
   "outputs": [],
   "source": [
    "fingerprints_no_outliers_np = np.copy(fingerprints_np)\n",
    "delete_indices = np.where(outlier_mask_np == 1)\n",
    "fingerprints_no_outliers_np = np.delete(fingerprints_no_outliers_np, delete_indices, 0)"
   ]
  },
  {
   "cell_type": "code",
   "execution_count": 64,
   "metadata": {},
   "outputs": [],
   "source": [
    "np.savetxt('removed_outliers_fingerprintsdata3.txt', fingerprints_no_outliers_np, fmt=\"%f6\", delimiter=\" \")"
   ]
  },
  {
   "cell_type": "code",
   "execution_count": null,
   "metadata": {},
   "outputs": [],
   "source": []
  }
 ],
 "metadata": {
  "interpreter": {
   "hash": "a9fa396f5e4ee4d5b6635d0e9451f81e674e56f3db073d680d5371589f0d0c64"
  },
  "kernelspec": {
   "display_name": "Python 3.10.2 ('fingerprint_scan')",
   "language": "python",
   "name": "python3"
  },
  "language_info": {
   "codemirror_mode": {
    "name": "ipython",
    "version": 3
   },
   "file_extension": ".py",
   "mimetype": "text/x-python",
   "name": "python",
   "nbconvert_exporter": "python",
   "pygments_lexer": "ipython3",
   "version": "3.10.2"
  },
  "orig_nbformat": 4
 },
 "nbformat": 4,
 "nbformat_minor": 2
}
